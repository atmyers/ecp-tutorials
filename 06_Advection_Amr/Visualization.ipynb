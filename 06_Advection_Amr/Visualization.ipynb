{
 "cells": [
  {
   "cell_type": "markdown",
   "id": "1dcbcf62",
   "metadata": {},
   "source": [
    "## Example: AMR101: Multi-Level Scalar Advection\n",
    "\n",
    "### What Features Are We Using\n",
    "\n",
    "* Mesh data \n",
    "* Dynamic AMR with and without subcycling\n",
    "\n",
    "### The Problem\n",
    "\n",
    "Consider a drop of dye (we'll define $\\phi$ to be the concentration of dye) in a thin incompressible fluid that is spinning clock-wise then counter-clockwise with a prescribed motion. We consider the dye to be a passive tracer that is advected by the fluid velocity. The fluid is thin enough that we can model this as two-dimensional motion; here we have the option of solving in a 2D or 3D computational domain.\n",
    "\n",
    "In other words, we want to solve for $$\\phi(x,y,t)$$ by evolving\n",
    "\n",
    "$$\\frac{\\partial \\phi}{\\partial t} + \\nabla \\cdot (\\bf{u^{spec}} \\phi) = 0$$\n",
    "\n",
    "in time ($t$), where the velocity $${\\bf{u^{spec}}} = (u,v)$$ is a divergence-free field computed by defining\n",
    "\n",
    "$$\\psi(i,j) = \\sin^2(\\pi x) \\sin^2(\\pi y) \\cos (\\pi t / 2) / \\pi $$\n",
    "\n",
    "and defining\n",
    "\n",
    "$$u = -\\frac{\\partial \\psi}{\\partial y}, v = \\frac{\\partial \\psi}{\\partial x}.$$\n",
    "\n",
    "Note that because ${\\bf{u^{spec}}}$ is defined as the curl of a scalar field, it is analytically divergence-free\n",
    "\n",
    "In this example we'll be using AMR to resolve the scalar field since the location of the dye is what we care most about.\n",
    "\n",
    "### The AMR Algorithm\n",
    "\n",
    "To update the solution in a patch at a given level, we compute fluxes (${\\bf u^{spec}} \\phi$)\n",
    "on each face, and difference the fluxes to create the update to phi.   The update routine\n",
    "in the code looks like\n",
    "\n",
    "```cplusplus\n",
    "  // Do a conservative update\n",
    "  {\n",
    "    phi_out(i,j,k) = phi_in(i,j,k) +\n",
    "                ( AMREX_D_TERM( (flxx(i,j,k) - flxx(i+1,j,k)) * dtdx[0],\n",
    "                              + (flxy(i,j,k) - flxy(i,j+1,k)) * dtdx[1],\n",
    "                              + (flxz(i,j,k) - flxz(i,j,k+1)) * dtdx[2] ) );\n",
    "  }\n",
    "```\n",
    "\n",
    "In this routine we use the macro AMREX_D_TERM so that we can write dimension-independent code; \n",
    "in 3D this returns the flux differences in all three directions, but in 2D it does not include\n",
    "the z-fluxes.\n",
    "\n",
    "Knowing how to synchronize the solution at coarse/fine boundaries is essential in an AMR algorithm;\n",
    "here having the algorithm written in flux form allows us to either make the fluxes consistent between\n",
    "coarse and fine levels in a no-subcycling algorithm, or \"reflux\" after the update in a subcycling algorithm.\n",
    "\n",
    "The subcycling algorithm can be written as follows\n",
    "```C++\n",
    "void\n",
    "AmrCoreAdv::timeStepWithSubcycling (int lev, Real time, int iteration)\n",
    "{\n",
    "\n",
    "    // Advance a single level for a single time step, and update flux registers\n",
    "    Real t_nph = 0.5 * (t_old[lev] + t_new[lev]);\n",
    "    DefineVelocityAtLevel(lev, t_nph);\n",
    "    AdvancePhiAtLevel(lev, time, dt[lev], iteration, nsubsteps[lev]);\n",
    "\n",
    "    ++istep[lev];\n",
    "\n",
    "    if (lev < finest_level)\n",
    "    {\n",
    "        // recursive call for next-finer level\n",
    "        for (int i = 1; i <= nsubsteps[lev+1]; ++i)\n",
    "        {\n",
    "            timeStepWithSubcycling(lev+1, time+(i-1)*dt[lev+1], i);\n",
    "        }\n",
    "\n",
    "        if (do_reflux)\n",
    "        {\n",
    "            // update lev based on coarse-fine flux mismatch\n",
    "            flux_reg[lev+1]->Reflux(phi_new[lev], 1.0, 0, 0, phi_new[lev].nComp(), geom[lev]);\n",
    "        }\n",
    "\n",
    "        AverageDownTo(lev); // average lev+1 down to lev\n",
    "    }\n",
    "\n",
    "}\n",
    "```\n",
    "\n",
    "while the no-subcycling algorithm looks like\n",
    "```C++\n",
    "void\n",
    "AmrCoreAdv::timeStepNoSubcycling (Real time, int iteration)\n",
    "{\n",
    "    DefineVelocityAllLevels(time);\n",
    "    AdvancePhiAllLevels (time, dt[0], iteration);\n",
    "\n",
    "    // Make sure the coarser levels are consistent with the finer levels\n",
    "    AverageDown ();\n",
    "\n",
    "    for (int lev = 0; lev <= finest_level; lev++)\n",
    "        ++istep[lev];\n",
    "}\n",
    "```"
   ]
  },
  {
   "cell_type": "markdown",
   "id": "c826b957",
   "metadata": {},
   "source": [
    "### Visualizing the Results\n",
    "\n",
    "Below is some python code for visualizing the results with yt:"
   ]
  },
  {
   "cell_type": "code",
   "execution_count": null,
   "id": "29609c78",
   "metadata": {},
   "outputs": [],
   "source": [
    "import yt\n",
    "from yt.frontends.boxlib.data_structures import AMReXDataset"
   ]
  },
  {
   "cell_type": "code",
   "execution_count": null,
   "id": "cb533aa1",
   "metadata": {},
   "outputs": [],
   "source": [
    "ds = AMReXDataset(\"plt00060\")"
   ]
  },
  {
   "cell_type": "code",
   "execution_count": null,
   "id": "ae107c08",
   "metadata": {},
   "outputs": [],
   "source": [
    "ds.field_list"
   ]
  },
  {
   "cell_type": "code",
   "execution_count": null,
   "id": "899767fc",
   "metadata": {},
   "outputs": [],
   "source": [
    "sl = yt.SlicePlot(ds, 2, ('boxlib', 'phi'))\n",
    "sl.annotate_grids()"
   ]
  }
 ],
 "metadata": {
  "kernelspec": {
   "display_name": "Python 3",
   "language": "python",
   "name": "python3"
  },
  "language_info": {
   "codemirror_mode": {
    "name": "ipython",
    "version": 3
   },
   "file_extension": ".py",
   "mimetype": "text/x-python",
   "name": "python",
   "nbconvert_exporter": "python",
   "pygments_lexer": "ipython3",
   "version": "3.8.8"
  }
 },
 "nbformat": 4,
 "nbformat_minor": 5
}
