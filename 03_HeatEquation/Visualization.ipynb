{
 "cells": [
  {
   "cell_type": "markdown",
   "id": "33995ab6",
   "metadata": {},
   "source": [
    "## Example: 3D Heat Equation\n",
    "\n",
    "### What Features Are We Using\n",
    "\n",
    "* Mesh data \n",
    "* Domain Decomposition\n",
    "\n",
    "We now look at a more complicated example at and show how simulation results\n",
    "can be visualized. This example solves the heat equation,\n",
    "\n",
    "$$\\frac{\\partial\\phi}{\\partial t} = \\nabla^2\\phi$$\n",
    "\n",
    "using forward Euler temporal integration on a periodic domain.  We could use a\n",
    "5-point (in 2D) or 7-point (in 3D) stencil, but for demonstration purposes we\n",
    "spatially discretize the PDE by first constructing (negative) fluxes on cell faces, e.g.,\n",
    "\n",
    "$$F_{i+^1\\!/_2,\\,j} = \\frac{\\phi_{i+1,j}-\\phi_{i,j}}{\\Delta x}$$\n",
    "\n",
    "and then taking the divergence to update the cells:\n",
    "\n",
    "   $$\\phi_{i,\\,j}^{n+1} = \\phi_{i,\\,j}^n\n",
    "   + \\frac{\\Delta t}{\\Delta x}\\left(F_{i+^1\\!/_2,\\,j}-F_{i-^1\\!/_2,\\,j}\\right)\n",
    "   + \\frac{\\Delta t}{\\Delta y}\\left(F_{i,\\,j+^1\\!/_2}-F_{i,\\,j-^1\\!/_2}\\right)$$"
   ]
  },
  {
   "cell_type": "code",
   "execution_count": null,
   "id": "29609c78",
   "metadata": {},
   "outputs": [],
   "source": [
    "import yt\n",
    "from yt.frontends.boxlib.data_structures import AMReXDataset"
   ]
  },
  {
   "cell_type": "code",
   "execution_count": null,
   "id": "18ec883c",
   "metadata": {},
   "outputs": [],
   "source": [
    "ls"
   ]
  },
  {
   "cell_type": "code",
   "execution_count": null,
   "id": "cb533aa1",
   "metadata": {},
   "outputs": [],
   "source": [
    "ds = AMReXDataset(\"plt00000\")"
   ]
  },
  {
   "cell_type": "code",
   "execution_count": null,
   "id": "2d834eaf",
   "metadata": {},
   "outputs": [],
   "source": [
    "ds.field_list"
   ]
  },
  {
   "cell_type": "code",
   "execution_count": null,
   "id": "899767fc",
   "metadata": {},
   "outputs": [],
   "source": [
    "sl = yt.SlicePlot(ds, 2, ('boxlib', 'phi'))"
   ]
  },
  {
   "cell_type": "code",
   "execution_count": null,
   "id": "679eaca7",
   "metadata": {},
   "outputs": [],
   "source": [
    "sl"
   ]
  },
  {
   "cell_type": "code",
   "execution_count": null,
   "id": "72af42b5",
   "metadata": {},
   "outputs": [],
   "source": [
    "ds = AMReXDataset(\"plt01000\")\n",
    "sl = yt.SlicePlot(ds, 2, ('boxlib', 'phi'))\n",
    "sl"
   ]
  },
  {
   "cell_type": "code",
   "execution_count": null,
   "id": "bd7332dd",
   "metadata": {},
   "outputs": [],
   "source": [
    "sl.annotate_grids()"
   ]
  }
 ],
 "metadata": {
  "kernelspec": {
   "display_name": "Python 3",
   "language": "python",
   "name": "python3"
  },
  "language_info": {
   "codemirror_mode": {
    "name": "ipython",
    "version": 3
   },
   "file_extension": ".py",
   "mimetype": "text/x-python",
   "name": "python",
   "nbconvert_exporter": "python",
   "pygments_lexer": "ipython3",
   "version": "3.8.8"
  }
 },
 "nbformat": 4,
 "nbformat_minor": 5
}
