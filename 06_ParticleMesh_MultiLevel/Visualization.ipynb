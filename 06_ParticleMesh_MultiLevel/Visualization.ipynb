{
 "cells": [
  {
   "cell_type": "code",
   "execution_count": null,
   "id": "83170d52",
   "metadata": {},
   "outputs": [],
   "source": [
    "import yt"
   ]
  },
  {
   "cell_type": "code",
   "execution_count": null,
   "id": "b1a070d3",
   "metadata": {},
   "outputs": [],
   "source": [
    "ds = yt.load(\"plt00000\")"
   ]
  },
  {
   "cell_type": "code",
   "execution_count": null,
   "id": "cac891d9",
   "metadata": {},
   "outputs": [],
   "source": [
    "sl = yt.SlicePlot(ds, 2, 'density')"
   ]
  },
  {
   "cell_type": "code",
   "execution_count": null,
   "id": "cdee59ea",
   "metadata": {},
   "outputs": [],
   "source": [
    "sl.annotate_grids()"
   ]
  },
  {
   "cell_type": "code",
   "execution_count": null,
   "id": "81f8fd11",
   "metadata": {},
   "outputs": [],
   "source": [
    "ad = ds.all_data()\n",
    "ad.quantities.weighted_average_quantity('density', 'cell_volume')"
   ]
  }
 ],
 "metadata": {
  "kernelspec": {
   "display_name": "Python 3",
   "language": "python",
   "name": "python3"
  },
  "language_info": {
   "codemirror_mode": {
    "name": "ipython",
    "version": 3
   },
   "file_extension": ".py",
   "mimetype": "text/x-python",
   "name": "python",
   "nbconvert_exporter": "python",
   "pygments_lexer": "ipython3",
   "version": "3.8.8"
  }
 },
 "nbformat": 4,
 "nbformat_minor": 5
}
